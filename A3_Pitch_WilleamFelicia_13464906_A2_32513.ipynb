{
  "nbformat": 4,
  "nbformat_minor": 0,
  "metadata": {
    "colab": {
      "name": "A3_Pitch_WilleamFelicia_13464906_A2_32513",
      "provenance": [],
      "collapsed_sections": [],
      "include_colab_link": true
    },
    "kernelspec": {
      "name": "python3",
      "display_name": "Python 3"
    }
  },
  "cells": [
    {
      "cell_type": "markdown",
      "metadata": {
        "id": "view-in-github",
        "colab_type": "text"
      },
      "source": [
        "<a href=\"https://colab.research.google.com/github/feliciawilleam/Machine-Learning-Assignment-3/blob/master/A3_Pitch_WilleamFelicia_13464906_A2_32513.ipynb\" target=\"_parent\"><img src=\"https://colab.research.google.com/assets/colab-badge.svg\" alt=\"Open In Colab\"/></a>"
      ]
    },
    {
      "cell_type": "markdown",
      "metadata": {
        "id": "a4mj4ZfRkWOn",
        "colab_type": "text"
      },
      "source": [
        "# Aim"
      ]
    },
    {
      "cell_type": "markdown",
      "metadata": {
        "id": "aUfFfaL5kRmB",
        "colab_type": "text"
      },
      "source": [
        "The aim of the project is to develop an approach to help online shopping customer to predict what they are looking for using analysis of their Instagram likes. \n",
        "This overall aim is broken into three different objectives (i) collect related fashion instagram likes and messages for use in training set; build classifiers using Python and other programming language, (ii) evaluate several classifiers for sentiment analysis and evaluation validate and deploy the developed approaches. \n"
      ]
    },
    {
      "cell_type": "markdown",
      "metadata": {
        "id": "8X7mH_p8kodD",
        "colab_type": "text"
      },
      "source": [
        "# Background"
      ]
    },
    {
      "cell_type": "markdown",
      "metadata": {
        "id": "eh7G60g7keod",
        "colab_type": "text"
      },
      "source": [
        "Online fashion is one of the fastest growing and biggest industries in the world. With the convenience of the comfort of your home it allows users to update their wardrobe at the tips of their fingers. However for users or potential customers sometimes it takes an unnecessary amount of time to find the right item, the right shop and the right prices. More of then than not the items that the users/customer see over their screen will come in differently that what they are expected, it then forced user to return the items with extra cost that usually at a loss of the customers.\n",
        "\n",
        "Currently big online fashion retailers are using Artificial Intelligence to help their customers making decisions. ASOS uses FitAnalytics a machine learning platform to help customers recommended right sizes based on past purchases of other customers that have similar size and their personal past purchases (Johnson, 2019). This has helped ASOS and other online retailers that using FitAnalytics to reduce the numbers of returns that usually takes 20% of e-commerce business compared to returns in brick and mortar, it also has helped the customer to gain confidence to shop online (Turk, 2018). \n",
        "FitAnalytics is very successful that it also have been adapted to the biggest Australian online retailers such as The Iconic, JD Sports, Tommy Hilfiger, Calvin Klein, BooHoo and many more (FitAnalytics.com, 2019). This proves that artificial intelligence is a growing needs in online fashion retailer. \n",
        "\n",
        "\n",
        "However customers often experience when they are trying to look for a specific item it tends to take a long time to find the right one, sometimes it takes days or weeks for customer to decide and buy items online. It could either due to the cost perspective, different sizing and stock availability. Most of today’s online retailer users tend to browse from social media platforms, particularly Instagram to see how it is been worn by their peers or instagram influencer and even simply just checking what is the current and the next fashion trend. Browsing from Instagram also helps customer to determine whether this style will suit their wardrobe, their needs and lifestyle as they can relate better and seeing the item in real life situation.\n"
      ]
    },
    {
      "cell_type": "markdown",
      "metadata": {
        "id": "Fa02Nvfhkqv2",
        "colab_type": "text"
      },
      "source": [
        "# Research Project"
      ]
    },
    {
      "cell_type": "markdown",
      "metadata": {
        "id": "Cf3L2Az7kuYQ",
        "colab_type": "text"
      },
      "source": [
        "The world today revolves around social media, we are frequently bombarded by media particularly advertisements. One of the biggest advertisers in social media is retail fashion ranging from haute couture to high street fashion. Users are left with so many choices, sometimes too many, from price point of view, quality and purposes. When bombarded with too many choices users will eventually get overwhelmed and tend to bail on purchasing. According to a study by Nagar and Gandotra when customer is bombarded with a large number of choices they will only enjoy the initial process of it, towards the end customer tend to get confused when taking final decision due to too much information (Nagar and Gandotra, 2016). \n",
        "\n",
        "This proposed method will help users to immediately found what they are looking for, make faster decisions and purchase on the site and hopefully would make them feel less overwhelmed with different kinds of advertising.\n",
        "By creating a deep learning model it will helps us to identify and extract subjective information, particularly with sentiment analysis - a text classification tool which can help brand or business to analyse social media social sentiment while monitoring online conversations about it (Towards Data Science, Gupta, 2018)\n",
        "\n",
        "Data set will be gathered from the user’s recent Instagram account activities where it will collect and analyse posts that users have engaged with, liked, commented, shared and followed. \n",
        "Photos that customers have recently engaged in will be analyzed with image classification and the captions of the photos and comments will be analyzed with text classification tools.\n",
        "With the help of intention analysis; which is a text classification tool that can determine users behaviour and intention we can discover the users motive and objectives when they are browsing through. \n",
        "Once the user go to open the website it can give predictions and suggestions of what the users might be looking for, helping users to spend less time browsing around, help them to find exactly what they are looking for and help them to make a faster decision.\n",
        "\n",
        "Once this program is implemented in the investor’s retail website it will help their customers to make faster and more confident purchase within their site, prevents potential customers to browse into another competitors. It will highly benefits investors to generate more customers. From customers perspective it will create ease of use while browsing around within the site."
      ]
    },
    {
      "cell_type": "markdown",
      "metadata": {
        "id": "vD6FBPuE9ten",
        "colab_type": "text"
      },
      "source": [
        "**Task Breakdown and Timeline**<br>\n",
        "\n",
        "This project will be broken down into four phases within one year. Its divided into analysis or research phase, design phase, model development phase and evaluation phase at the end to ensure the model is running smoothly.\n",
        "Here is detail of the tasks:\n"
      ]
    },
    {
      "cell_type": "markdown",
      "metadata": {
        "id": "XQsL8ylDGpDE",
        "colab_type": "text"
      },
      "source": [
        "![Task Breakdown](https://github.com/feliciawilleam/Machine-Learning-Assignment-3/blob/master/task-breakdown.png?raw=true)"
      ]
    },
    {
      "cell_type": "markdown",
      "metadata": {
        "id": "wH_guzarEvlm",
        "colab_type": "text"
      },
      "source": [
        "![Timeline](https://github.com/feliciawilleam/Machine-Learning-Assignment-3/blob/master/timeline.png?raw=true)"
      ]
    },
    {
      "cell_type": "markdown",
      "metadata": {
        "id": "qxOPm8P5k1sb",
        "colab_type": "text"
      },
      "source": [
        "# Personnel"
      ]
    },
    {
      "cell_type": "markdown",
      "metadata": {
        "id": "h97d14XYk3nf",
        "colab_type": "text"
      },
      "source": [
        "To build the deep learning model and the program for this project proposal we will need to hire experts to help us build the system. Experts needed are project manager, data scientist, software engineer and UI designer to help create interface of the system.\n",
        "Here are list of required personnel for this one year project:\n",
        "<br>\n",
        "\n",
        "\n",
        "**Project Manager**<br>\n",
        "Duties are estimating, carrying quality control, handling employee and project schedules, reviewing designs and creating proposals\n",
        "<br>\n",
        "\n",
        "**Data scientist**<br>\n",
        "Duties would be creating machine learning based tools that is crucial for this project\n",
        "<br>\n",
        "\n",
        "**Software engineer**<br>\n",
        "Software engineer will help designing system specifications, recommending changes and solutions in policies and procedures\n",
        "<br>\n",
        "\n",
        "**UI Designer**<br>\n",
        "Creating and improving intuitive design and user-centered design of the model when used by customer\n",
        "<br>\n"
      ]
    },
    {
      "cell_type": "markdown",
      "metadata": {
        "id": "y4BmZtXZkyTR",
        "colab_type": "text"
      },
      "source": [
        "# Budget"
      ]
    },
    {
      "cell_type": "markdown",
      "metadata": {
        "id": "ApVQRZeik2zq",
        "colab_type": "text"
      },
      "source": [
        "For one yer project here are the breakdown costs that will be needed.\n",
        "\n",
        ">Item | Price\n",
        ">--- | ---\n",
        ">Project Manager | 98,000\n",
        ">Data Scientist | 120,000\n",
        ">Software Designer | 77,000\n",
        ">UI Designer | 69,000\n",
        ">Office space rent | 40,000\n",
        ">Office supplies | $6,000\n",
        ">**Total** | **410,000**\n",
        "\n",
        "In total to complete this project within one year we will require a minimum of $410,000.\n",
        "This estimation was projected roughly from average wages of the expert roles, cost of renting an office space for a year  and office supplies such as basic office furniture, computers or laptop, printers and office operational day to day cost. \n",
        "\n"
      ]
    },
    {
      "cell_type": "markdown",
      "metadata": {
        "id": "vlFcclOLDUdH",
        "colab_type": "text"
      },
      "source": [
        "# Link Video Pitch"
      ]
    },
    {
      "cell_type": "markdown",
      "metadata": {
        "id": "nc_s-1kdDXX7",
        "colab_type": "text"
      },
      "source": [
        "Link: https://vimeo.com/365244532"
      ]
    },
    {
      "cell_type": "markdown",
      "metadata": {
        "id": "oJXusfbe_o_-",
        "colab_type": "text"
      },
      "source": [
        "# References"
      ]
    },
    {
      "cell_type": "markdown",
      "metadata": {
        "id": "uNpxPYn4_ss-",
        "colab_type": "text"
      },
      "source": [
        "Fitanalytics.com. (2019). Fit Analytics | Apparel's Machine Learning Platform. [online] Available at: https://www.fitanalytics.com/\n",
        "<br>\n",
        "\n",
        "Gupta, S. (2018). Sentiment Analysis: Concept, Analysis and Applications. [online] Medium. Available at: https://towardsdatascience.com/sentiment-analysis-concept-analysis-and-applications-6c94d6f58c17 \n",
        "<br>\n",
        "\n",
        "Johnson, T. (2019). The Future of Fashion: How Artificial Intelligence is Transforming the Apparel Industry | Tinuiti. [online] Tinuiti. Available at: https://tinuiti.com/blog/ecommerce/future-of-fashion/ .\n",
        "<br>\n",
        "\n",
        "Nagar, K. and Gandotra, P. (2016). Exploring Choice Overload, Internet Shopping Anxiety, Variety Seeking and Online Shopping Adoption Relationship: Evidence from Online Fashion Stores. Global Business Review, [online] 17(4), pp.851-869. Available at: https://journals-sagepub-com.ezproxy.lib.uts.edu.au/doi/full/10.1177/0972150916645682.\n",
        "<br>\n",
        "\n",
        "Turk, R. (2018). Asos improves sizing assistance with AI technology. [online] Fashionunited.uk. Available at: https://fashionunited.uk/news/fashion/asos-improves-sizing-assistance-with-ai-technology/2018112940243 "
      ]
    }
  ]
}